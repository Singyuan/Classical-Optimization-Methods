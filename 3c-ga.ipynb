{
 "cells": [
  {
   "cell_type": "code",
   "execution_count": 87,
   "id": "3e72bebd",
   "metadata": {},
   "outputs": [
    {
     "name": "stdout",
     "output_type": "stream",
     "text": [
      "Once deleted, variables cannot be recovered. Proceed (y/[n])? y\n"
     ]
    }
   ],
   "source": [
    "%reset"
   ]
  },
  {
   "cell_type": "code",
   "execution_count": 1,
   "id": "ef1cce26",
   "metadata": {},
   "outputs": [],
   "source": [
    "import matplotlib\n",
    "import numpy as np\n",
    "import matplotlib.pyplot as plt\n",
    "import random\n",
    "import math\n",
    "from numpy import save"
   ]
  },
  {
   "cell_type": "code",
   "execution_count": 2,
   "id": "87b0b565",
   "metadata": {
    "scrolled": true
   },
   "outputs": [
    {
     "data": {
      "text/html": [
       "<div>\n",
       "<style scoped>\n",
       "    .dataframe tbody tr th:only-of-type {\n",
       "        vertical-align: middle;\n",
       "    }\n",
       "\n",
       "    .dataframe tbody tr th {\n",
       "        vertical-align: top;\n",
       "    }\n",
       "\n",
       "    .dataframe thead th {\n",
       "        text-align: right;\n",
       "    }\n",
       "</style>\n",
       "<table border=\"1\" class=\"dataframe\">\n",
       "  <thead>\n",
       "    <tr style=\"text-align: right;\">\n",
       "      <th></th>\n",
       "      <th>中坡</th>\n",
       "      <th>中研</th>\n",
       "      <th>中貿</th>\n",
       "      <th>玉成</th>\n",
       "      <th>玉德</th>\n",
       "      <th>向揚</th>\n",
       "      <th>庄研</th>\n",
       "      <th>佳樂</th>\n",
       "      <th>忠陽</th>\n",
       "      <th>昆陽</th>\n",
       "    </tr>\n",
       "  </thead>\n",
       "  <tbody>\n",
       "    <tr>\n",
       "      <th>中坡</th>\n",
       "      <td>0.00</td>\n",
       "      <td>5.5</td>\n",
       "      <td>4.7</td>\n",
       "      <td>2.2</td>\n",
       "      <td>0.35</td>\n",
       "      <td>2.4</td>\n",
       "      <td>5.6</td>\n",
       "      <td>3.4</td>\n",
       "      <td>2.00</td>\n",
       "      <td>1.7</td>\n",
       "    </tr>\n",
       "    <tr>\n",
       "      <th>中研</th>\n",
       "      <td>5.50</td>\n",
       "      <td>0.0</td>\n",
       "      <td>3.0</td>\n",
       "      <td>4.6</td>\n",
       "      <td>5.50</td>\n",
       "      <td>4.5</td>\n",
       "      <td>1.3</td>\n",
       "      <td>2.9</td>\n",
       "      <td>4.10</td>\n",
       "      <td>4.7</td>\n",
       "    </tr>\n",
       "    <tr>\n",
       "      <th>中貿</th>\n",
       "      <td>4.70</td>\n",
       "      <td>3.0</td>\n",
       "      <td>0.0</td>\n",
       "      <td>3.4</td>\n",
       "      <td>4.50</td>\n",
       "      <td>3.3</td>\n",
       "      <td>2.6</td>\n",
       "      <td>1.5</td>\n",
       "      <td>3.00</td>\n",
       "      <td>3.6</td>\n",
       "    </tr>\n",
       "    <tr>\n",
       "      <th>玉成</th>\n",
       "      <td>2.20</td>\n",
       "      <td>4.6</td>\n",
       "      <td>3.4</td>\n",
       "      <td>0.0</td>\n",
       "      <td>2.30</td>\n",
       "      <td>0.4</td>\n",
       "      <td>4.5</td>\n",
       "      <td>1.6</td>\n",
       "      <td>0.45</td>\n",
       "      <td>0.5</td>\n",
       "    </tr>\n",
       "    <tr>\n",
       "      <th>玉德</th>\n",
       "      <td>0.35</td>\n",
       "      <td>5.5</td>\n",
       "      <td>4.5</td>\n",
       "      <td>2.3</td>\n",
       "      <td>0.00</td>\n",
       "      <td>2.2</td>\n",
       "      <td>5.3</td>\n",
       "      <td>3.1</td>\n",
       "      <td>1.80</td>\n",
       "      <td>1.4</td>\n",
       "    </tr>\n",
       "  </tbody>\n",
       "</table>\n",
       "</div>"
      ],
      "text/plain": [
       "      中坡   中研   中貿   玉成    玉德   向揚   庄研   佳樂    忠陽   昆陽\n",
       "中坡  0.00  5.5  4.7  2.2  0.35  2.4  5.6  3.4  2.00  1.7\n",
       "中研  5.50  0.0  3.0  4.6  5.50  4.5  1.3  2.9  4.10  4.7\n",
       "中貿  4.70  3.0  0.0  3.4  4.50  3.3  2.6  1.5  3.00  3.6\n",
       "玉成  2.20  4.6  3.4  0.0  2.30  0.4  4.5  1.6  0.45  0.5\n",
       "玉德  0.35  5.5  4.5  2.3  0.00  2.2  5.3  3.1  1.80  1.4"
      ]
     },
     "execution_count": 2,
     "metadata": {},
     "output_type": "execute_result"
    }
   ],
   "source": [
    "import json\n",
    "import pandas as pd\n",
    "\n",
    "with open(file='data/adjacency_matrix_test.json', mode='r', encoding='utf-8') as reader:\n",
    "    adjacency_matrix = json.load(reader)\n",
    "\n",
    "# converting json dataset from dictionary to dataframe\n",
    "adj_mat = pd.DataFrame.from_dict(adjacency_matrix)\n",
    "adj_mat = (adj_mat.T+adj_mat)/2 # force it to symmetry\n",
    "\n",
    "adj_mat.head()"
   ]
  },
  {
   "cell_type": "code",
   "execution_count": 3,
   "id": "51666062",
   "metadata": {},
   "outputs": [
    {
     "data": {
      "text/plain": [
       "(10, 10)"
      ]
     },
     "execution_count": 3,
     "metadata": {},
     "output_type": "execute_result"
    }
   ],
   "source": [
    "tsp = adj_mat.to_numpy()\n",
    "np.shape(tsp)"
   ]
  },
  {
   "cell_type": "code",
   "execution_count": 4,
   "id": "32b36711",
   "metadata": {},
   "outputs": [],
   "source": [
    "def routeLength(tsp, pop):\n",
    "    obj = np.zeros(pop.shape[0])\n",
    "    \n",
    "    # run over all population and compute the fitness value\n",
    "    for  j in range(pop.shape[0]):\n",
    "        solution = pop[j, :]\n",
    "        pathLength = 0\n",
    "        for i in range(len(solution)):\n",
    "            pathLength += tsp[solution[i - 1]][solution[i]]\n",
    "        obj[j] = pathLength\n",
    "    \n",
    "    return obj"
   ]
  },
  {
   "cell_type": "markdown",
   "id": "317e353d",
   "metadata": {},
   "source": [
    "## Selection: roulette-wheel\n",
    "<b>The fitness is defined as recipocal of (1 plus route length)</b><br>\n",
    "pop is population  \n",
    "fitness is fitness value  \n",
    "numof_matepool is how many parents you hope to put in mate pool"
   ]
  },
  {
   "cell_type": "code",
   "execution_count": 5,
   "id": "e97fd41d",
   "metadata": {},
   "outputs": [],
   "source": [
    "# pop is population, fitness is fitness value and numof_matepool is how many parents you hope\n",
    "def selection(pop, pathlen, numof_matepool):\n",
    "    matepool = np.zeros((numof_matepool, pop.shape[1]), dtype=int)\n",
    "    vecindex = np.array(range(len(pathlen))) # for choice which population\n",
    "    \n",
    "    # convert the route length to fitness value by 1/(1+len)\n",
    "    fitness = 1/(1+pathlen)\n",
    "    sum_fitness = np.sum(fitness)\n",
    "    fitness = fitness/sum_fitness\n",
    "    # construct the roulette wheel by cumulation\n",
    "    roulette_wheel = fitness.cumsum()\n",
    "    \n",
    "    # choose numof_matepool parents from population\n",
    "    for j in range(numof_matepool):\n",
    "        # construct a dart\n",
    "        dart = random.random()\n",
    "        # shoot the dart\n",
    "        choice_index = vecindex[np.where(roulette_wheel>dart)[0]][0] # choose the choice_index-th population\n",
    "        matepool[j, :] = pop[choice_index, :]\n",
    "        \n",
    "    return matepool"
   ]
  },
  {
   "cell_type": "markdown",
   "id": "60236f52",
   "metadata": {},
   "source": [
    "## Crossover: uniform order crossover\n",
    "<b>Crossover uniform multi-bits and keep order </b><br>\n",
    "matepool is all parents  \n",
    "numof_offsprings is how many children you hope  \n",
    "crossover_rate is cross over rate exchange two gene"
   ]
  },
  {
   "cell_type": "code",
   "execution_count": 6,
   "id": "ae8ce18a",
   "metadata": {},
   "outputs": [],
   "source": [
    "# matepool is all parents, numof_offsprings is how many children you hope and crossover_rate is cross over rate\n",
    "def crossover(matepool, numof_offsprings, crossover_rate):\n",
    "    offsprings = np.zeros((numof_offsprings, matepool.shape[1]), dtype=int)\n",
    "    j = 0\n",
    "    \n",
    "    # construct all offsprings\n",
    "    while j < numof_offsprings:\n",
    "        # avoid over the matepool\n",
    "        parents1 = matepool[j%matepool.shape[0], :]\n",
    "        parents2 = matepool[(j+1)%matepool.shape[0], :]\n",
    "        # determine which genetic to cross over\n",
    "        idxfilter = (np.random.rand(matepool.shape[1]) < crossover_rate)\n",
    "        \n",
    "        # two parents cross over and generates two kids\n",
    "        # step 1: find these city in parent-1\n",
    "        ordercity1 = parents1[idxfilter]\n",
    "        ordercity2 = parents2[idxfilter]\n",
    "        \n",
    "        # step 2: find such city's  index of in parent-2\n",
    "        crossidx2 = np.in1d(parents2, ordercity1).nonzero()[0]\n",
    "        crossidx1 = np.in1d(parents1, ordercity2).nonzero()[0]\n",
    "        \n",
    "        # step 3: reorder such city in parent-2 by parent-1\n",
    "        children1 = parents1.copy()\n",
    "        children2 = parents2.copy()\n",
    "        children2[crossidx2] = ordercity1\n",
    "        children1[crossidx1] = ordercity2\n",
    "        \n",
    "        \n",
    "        offsprings[j, :] = children1\n",
    "        offsprings[j+1, :] = children2\n",
    "        j = j+2\n",
    "    return offsprings"
   ]
  },
  {
   "cell_type": "markdown",
   "id": "ba4a90e2",
   "metadata": {},
   "source": [
    "## Mutation: consecutive multi-bits order\n",
    "<b>This is counterclockwise mutation method for consecutive multi-bits </b><br>\n",
    "offsprings is new population  \n",
    "mutation_rate is mutation rate  \n",
    "numof_flip is determine how many gene you hope to mutation"
   ]
  },
  {
   "cell_type": "code",
   "execution_count": 7,
   "id": "93c1b5fd",
   "metadata": {},
   "outputs": [],
   "source": [
    "# offsprings is new population, mutation_rate is mutation rate \n",
    "# and numof_flip is determine how many gene you hope to mutation\n",
    "def mutation(offsprings, mutation_rate, numof_flip):\n",
    "    mutants = offsprings.copy()\n",
    "    \n",
    "    for j in range(mutants.shape[0]):\n",
    "        # mutation or not\n",
    "        if np.random.rand() < mutation_rate:\n",
    "            # random choose a ''first'' index to mutation \n",
    "            randidx = random.randint(0, offsprings.shape[1]-(1+numof_flip))\n",
    "            # mutation index from randidx to (randidx + numof_flip)\n",
    "            # because of we hope to mutate consecutive multi-bit, avoid choose tail\n",
    "            \n",
    "            # Counterclockwise mutation\n",
    "            # replace the first element by the last element (in this mutation region)\n",
    "            mutants[j, randidx] = offsprings[j, randidx+numof_flip-1]\n",
    "            for k in range(1, numof_flip):\n",
    "                idx = (randidx+k)\n",
    "                mutants[j, idx] =  offsprings[j, idx-1]\n",
    "    return mutants"
   ]
  },
  {
   "cell_type": "markdown",
   "id": "c8b17b10",
   "metadata": {},
   "source": [
    "## Main\n",
    "The variable x_cur is with size (population size)-by-(dimension of points)  \n",
    "That is, each row is a search points."
   ]
  },
  {
   "cell_type": "code",
   "execution_count": 8,
   "id": "5693ae3d",
   "metadata": {
    "scrolled": true
   },
   "outputs": [],
   "source": [
    "# max number of step\n",
    "n = 20\n",
    "\n",
    "# determine the population size\n",
    "pop_size = 20\n",
    "pop_dim = np.shape(tsp)[1]\n",
    "\n",
    "# determine the size of matepool and offsprings\n",
    "numof_matepool = 10\n",
    "numof_offsprings = pop_size\n",
    "\n",
    "# determine the crossover rate, mutation rate and number of gene to be mutation\n",
    "crossover_rate = 0.4\n",
    "mutation_rate = 0.3\n",
    "numof_flip = 3\n",
    "\n",
    "# initial the population\n",
    "pop_start = np.zeros((pop_size, pop_dim), dtype=int)\n",
    "for j in range(pop_size):\n",
    "    pop_start[j, :] = np.random.permutation(pop_dim) \n",
    "\n",
    "\n",
    "# declare the best and mean fitness value\n",
    "# initial the best solution and fitness value\n",
    "fb_record = np.zeros(n+1)\n",
    "fm_record = np.zeros(n+1)\n",
    "objs = routeLength(tsp, pop_start)\n",
    "x_best = pop_start[np.argmin(objs), :]\n",
    "f_best = np.min(objs)\n",
    "fb_record[0] = f_best\n",
    "fm_record[0] = np.mean(objs)\n",
    "\n",
    "pop_cur = pop_start.copy()\n",
    "for i in range(n):\n",
    "#     print('Step: ' + str(i) + ' f best: ' + str(fb_record[i]))\n",
    "    # selection -> crossover -> mutation\n",
    "    matepool = selection(pop_cur, objs, numof_matepool)\n",
    "#     matepool = pop_cur\n",
    "    offsprings = crossover(matepool, numof_offsprings, crossover_rate)\n",
    "#     pop_cur = offsprings\n",
    "    pop_cur = mutation(offsprings, mutation_rate, numof_flip)\n",
    "    \n",
    "    # compute the path length of this set\n",
    "    objs = routeLength(tsp, pop_cur)\n",
    "    best = np.min(objs)\n",
    "    if best < f_best:\n",
    "        f_best = best.copy()\n",
    "        x_best = pop_cur[np.argmin(objs), :]\n",
    "        \n",
    "    \n",
    "    fb_record[i+1] = f_best\n",
    "    fm_record[i+1] = np.mean(objs)\n",
    "    \n",
    "    # check whether converge (all population has same gene)\n",
    "    conv = True\n",
    "    for j in range(1, pop_size):\n",
    "        if not np.array_equal(pop_cur[0, :], pop_cur[j, :]):\n",
    "            conv = False\n",
    "            break\n",
    "    if conv:\n",
    "        print(\"All population has same gene.\")\n",
    "        break"
   ]
  },
  {
   "cell_type": "code",
   "execution_count": 9,
   "id": "225259e0",
   "metadata": {},
   "outputs": [
    {
     "name": "stdout",
     "output_type": "stream",
     "text": [
      "Best solution: [3 5 9 8 0 4 2 1 6 7]\n",
      "Best objective: 17.276\n"
     ]
    }
   ],
   "source": [
    "# print solution\n",
    "print('Best solution: ' + str(x_best))\n",
    "print('Best objective: ' + str(f_best))"
   ]
  },
  {
   "cell_type": "code",
   "execution_count": 10,
   "id": "d1aa0dd0",
   "metadata": {},
   "outputs": [
    {
     "data": {
      "text/plain": [
       "[<matplotlib.lines.Line2D at 0x15bbcb0d0>]"
      ]
     },
     "execution_count": 10,
     "metadata": {},
     "output_type": "execute_result"
    },
    {
     "data": {
      "image/png": "[encoded data removed]",
      "text/plain": [
       "<Figure size 432x288 with 1 Axes>"
      ]
     },
     "metadata": {
      "needs_background": "light"
     },
     "output_type": "display_data"
    },
    {
     "data": {
      "image/png": "[encoded data removed]",
      "text/plain": [
       "<Figure size 432x288 with 1 Axes>"
      ]
     },
     "metadata": {
      "needs_background": "light"
     },
     "output_type": "display_data"
    }
   ],
   "source": [
    "fig = plt.figure()\n",
    "plt.plot(np.arange(0, n+1), fm_record,'r-o')\n",
    "plt.legend(['Current route path'])\n",
    "plt.ylabel(\"Mean of current length of route path\")\n",
    "plt.xlabel(\"Step\")\n",
    "# fig.savefig(\"fig/ga-curobj.png\")\n",
    "\n",
    "fig = plt.figure()\n",
    "plt.plot(np.arange(0, n+1), fb_record,'y-o')"
   ]
  },
  {
   "cell_type": "code",
   "execution_count": 11,
   "id": "806b11ba",
   "metadata": {},
   "outputs": [
    {
     "name": "stdout",
     "output_type": "stream",
     "text": [
      "中坡-->玉德-->中貿-->中研-->庄研-->佳樂-->玉成-->向揚-->昆陽-->忠陽-->中坡\n"
     ]
    }
   ],
   "source": [
    "listseven = list(adj_mat.columns)\n",
    "numofseven = len(listseven)\n",
    "startidx = np.where(x_best==0)[0][0] # this is 中坡 in x_best\n",
    "pathlist = []\n",
    "pathlist = listseven[0]\n",
    "\n",
    "for i in range(1, len(x_best)):\n",
    "    city_id = x_best[(startidx+i)%len(x_best)]\n",
    "    pathlist = pathlist + '-->' + listseven[city_id]\n",
    "\n",
    "pathlist = pathlist + '-->' + listseven[0]\n",
    "print(pathlist)"
   ]
  },
  {
   "cell_type": "code",
   "execution_count": 12,
   "id": "793e50d6",
   "metadata": {
    "scrolled": true
   },
   "outputs": [
    {
     "data": {
      "image/png": "[encoded data removed]",
      "text/plain": [
       "<Figure size 432x288 with 1 Axes>"
      ]
     },
     "metadata": {
      "needs_background": "light"
     },
     "output_type": "display_data"
    }
   ],
   "source": [
    "import json\n",
    "import pandas as pd\n",
    "\n",
    "with open(file='data/position_test.json', mode='r', encoding='utf-8') as reader:\n",
    "    pos_matrix = json.load(reader)\n",
    "\n",
    "# converting json dataset from dictionary to dataframe\n",
    "pos_mat = pd.DataFrame.from_dict(pos_matrix)\n",
    "\n",
    "listseven = list(pos_mat.columns)\n",
    "x_coor = []\n",
    "y_coor = []\n",
    "\n",
    "startidx = np.where(x_best==0)[0][0] # this is city-0 (中坡) in x_best\n",
    "pathlist = []\n",
    "pathlist = listseven[0]\n",
    "\n",
    "for i in range(0, len(x_best)):\n",
    "    city_id = x_best[(startidx+i)%len(x_best)] # from city-0 go a cycle\n",
    "    x_coor.append(pos_mat[listseven[city_id]][0])\n",
    "    y_coor.append(pos_mat[listseven[city_id]][1])\n",
    "\n",
    "# go back to city-0\n",
    "x_coor.append(pos_mat[listseven[x_best[startidx]]][0])\n",
    "y_coor.append(pos_mat[listseven[x_best[startidx]]][1])\n",
    "\n",
    "fig = plt.figure()\n",
    "plt.plot(x_coor, y_coor, 'o-', label='_nolegend_', markersize=8)\n",
    "plt.plot(x_coor[x_best[startidx]], y_coor[x_best[startidx]], 'go', markersize=10)\n",
    "plt.xticks([121.58, 121.59, 121.60, 121.61],rotation=10)\n",
    "plt.xlabel(\"longitude ($^{\\circ}$E)\")\n",
    "plt.ylabel(\"latitude ($^{\\circ}$N)\")\n",
    "plt.legend(['7-Eleven Chung-Po'])\n",
    "plt.title('Illustration of route diagram of 36 7-Eleven (not real route)')\n",
    "for i, txt in enumerate(range(len(x_best))):\n",
    "    plt.annotate(txt, (x_coor[i], y_coor[i]), xytext=(+1, +1), textcoords='offset points')\n",
    "fig.tight_layout()\n",
    "# fig.savefig(\"fig/ga-path-2.png\")"
   ]
  },
  {
   "cell_type": "code",
   "execution_count": 13,
   "id": "b1231521",
   "metadata": {},
   "outputs": [],
   "source": [
    "from numpy import save\n",
    "# save('result/ga-bestobj.npy', fb_record)"
   ]
  },
  {
   "cell_type": "markdown",
   "id": "3a000871",
   "metadata": {},
   "source": [
    "## Reference\n",
    "1. https://medium.com/qiubingcheng/%E4%BB%A5python%E5%AF%A6%E4%BD%9C%E5%9F%BA%E5%9B%A0%E6%BC%94%E7%AE%97%E6%B3%95-genetic-algorithm-ga-%E4%B8%A6%E8%A7%A3%E6%B1%BA%E5%B7%A5%E4%BD%9C%E6%8C%87%E6%B4%BE%E5%95%8F%E9%A1%8C-job-assignment-problem-jap-b0d7c4ad6d0f\n",
    "2. https://cloud.tencent.com/developer/news/373243\n",
    "3. https://stackoverflow.com/questions/56958843/how-to-select-parent-using-roulette-wheel"
   ]
  },
  {
   "cell_type": "code",
   "execution_count": null,
   "id": "ebac8f68",
   "metadata": {},
   "outputs": [],
   "source": []
  }
 ],
 "metadata": {
  "kernelspec": {
   "display_name": "Python 3",
   "language": "python",
   "name": "python3"
  },
  "language_info": {
   "codemirror_mode": {
    "name": "ipython",
    "version": 3
   },
   "file_extension": ".py",
   "mimetype": "text/x-python",
   "name": "python",
   "nbconvert_exporter": "python",
   "pygments_lexer": "ipython3",
   "version": "3.9.2"
  }
 },
 "nbformat": 4,
 "nbformat_minor": 5
}
