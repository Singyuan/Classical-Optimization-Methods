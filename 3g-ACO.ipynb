{
 "cells": [
  {
   "cell_type": "code",
   "execution_count": 1,
   "id": "39e9c924",
   "metadata": {},
   "outputs": [
    {
     "name": "stdout",
     "output_type": "stream",
     "text": [
      "Once deleted, variables cannot be recovered. Proceed (y/[n])? y\n"
     ]
    }
   ],
   "source": [
    "%reset"
   ]
  },
  {
   "cell_type": "code",
   "execution_count": 1,
   "id": "f0274400",
   "metadata": {},
   "outputs": [],
   "source": [
    "import numpy as np\n",
    "import matplotlib.pyplot as plt\n",
    "import random"
   ]
  },
  {
   "cell_type": "code",
   "execution_count": 2,
   "id": "6da1fda1",
   "metadata": {
    "scrolled": true
   },
   "outputs": [
    {
     "data": {
      "text/html": [
       "<div>\n",
       "<style scoped>\n",
       "    .dataframe tbody tr th:only-of-type {\n",
       "        vertical-align: middle;\n",
       "    }\n",
       "\n",
       "    .dataframe tbody tr th {\n",
       "        vertical-align: top;\n",
       "    }\n",
       "\n",
       "    .dataframe thead th {\n",
       "        text-align: right;\n",
       "    }\n",
       "</style>\n",
       "<table border=\"1\" class=\"dataframe\">\n",
       "  <thead>\n",
       "    <tr style=\"text-align: right;\">\n",
       "      <th></th>\n",
       "      <th>中坡</th>\n",
       "      <th>中研</th>\n",
       "      <th>中貿</th>\n",
       "      <th>玉成</th>\n",
       "      <th>玉德</th>\n",
       "      <th>向揚</th>\n",
       "      <th>庄研</th>\n",
       "      <th>佳樂</th>\n",
       "      <th>忠陽</th>\n",
       "      <th>昆陽</th>\n",
       "    </tr>\n",
       "  </thead>\n",
       "  <tbody>\n",
       "    <tr>\n",
       "      <th>中坡</th>\n",
       "      <td>0.00</td>\n",
       "      <td>5.5</td>\n",
       "      <td>4.7</td>\n",
       "      <td>2.2</td>\n",
       "      <td>0.35</td>\n",
       "      <td>2.4</td>\n",
       "      <td>5.6</td>\n",
       "      <td>3.4</td>\n",
       "      <td>2.00</td>\n",
       "      <td>1.7</td>\n",
       "    </tr>\n",
       "    <tr>\n",
       "      <th>中研</th>\n",
       "      <td>5.50</td>\n",
       "      <td>0.0</td>\n",
       "      <td>3.0</td>\n",
       "      <td>4.6</td>\n",
       "      <td>5.50</td>\n",
       "      <td>4.5</td>\n",
       "      <td>1.3</td>\n",
       "      <td>2.9</td>\n",
       "      <td>4.10</td>\n",
       "      <td>4.7</td>\n",
       "    </tr>\n",
       "    <tr>\n",
       "      <th>中貿</th>\n",
       "      <td>4.70</td>\n",
       "      <td>3.0</td>\n",
       "      <td>0.0</td>\n",
       "      <td>3.4</td>\n",
       "      <td>4.50</td>\n",
       "      <td>3.3</td>\n",
       "      <td>2.6</td>\n",
       "      <td>1.5</td>\n",
       "      <td>3.00</td>\n",
       "      <td>3.6</td>\n",
       "    </tr>\n",
       "    <tr>\n",
       "      <th>玉成</th>\n",
       "      <td>2.20</td>\n",
       "      <td>4.6</td>\n",
       "      <td>3.4</td>\n",
       "      <td>0.0</td>\n",
       "      <td>2.30</td>\n",
       "      <td>0.4</td>\n",
       "      <td>4.5</td>\n",
       "      <td>1.6</td>\n",
       "      <td>0.45</td>\n",
       "      <td>0.5</td>\n",
       "    </tr>\n",
       "    <tr>\n",
       "      <th>玉德</th>\n",
       "      <td>0.35</td>\n",
       "      <td>5.5</td>\n",
       "      <td>4.5</td>\n",
       "      <td>2.3</td>\n",
       "      <td>0.00</td>\n",
       "      <td>2.2</td>\n",
       "      <td>5.3</td>\n",
       "      <td>3.1</td>\n",
       "      <td>1.80</td>\n",
       "      <td>1.4</td>\n",
       "    </tr>\n",
       "  </tbody>\n",
       "</table>\n",
       "</div>"
      ],
      "text/plain": [
       "      中坡   中研   中貿   玉成    玉德   向揚   庄研   佳樂    忠陽   昆陽\n",
       "中坡  0.00  5.5  4.7  2.2  0.35  2.4  5.6  3.4  2.00  1.7\n",
       "中研  5.50  0.0  3.0  4.6  5.50  4.5  1.3  2.9  4.10  4.7\n",
       "中貿  4.70  3.0  0.0  3.4  4.50  3.3  2.6  1.5  3.00  3.6\n",
       "玉成  2.20  4.6  3.4  0.0  2.30  0.4  4.5  1.6  0.45  0.5\n",
       "玉德  0.35  5.5  4.5  2.3  0.00  2.2  5.3  3.1  1.80  1.4"
      ]
     },
     "execution_count": 2,
     "metadata": {},
     "output_type": "execute_result"
    }
   ],
   "source": [
    "import json\n",
    "import pandas as pd\n",
    "\n",
    "with open(file='data/adjacency_matrix_test.json', mode='r', encoding='utf-8') as reader:\n",
    "    adjacency_matrix = json.load(reader)\n",
    "\n",
    "# converting json dataset from dictionary to dataframe\n",
    "adj_mat = pd.DataFrame.from_dict(adjacency_matrix)\n",
    "adj_mat = (adj_mat.T+adj_mat)/2 # force it to symmetry\n",
    "\n",
    "adj_mat.head()"
   ]
  },
  {
   "cell_type": "code",
   "execution_count": 3,
   "id": "e5a2a255",
   "metadata": {},
   "outputs": [
    {
     "data": {
      "text/plain": [
       "(10, 10)"
      ]
     },
     "execution_count": 3,
     "metadata": {},
     "output_type": "execute_result"
    }
   ],
   "source": [
    "tsp = adj_mat.to_numpy()\n",
    "np.shape(tsp)"
   ]
  },
  {
   "cell_type": "code",
   "execution_count": 4,
   "id": "134db961",
   "metadata": {},
   "outputs": [],
   "source": [
    "def routeLength(tsp, x):\n",
    "    if x.ndim == 1:\n",
    "        solution = x.copy();\n",
    "        pathLength = 0\n",
    "        for i in range(len(solution)):\n",
    "            pathLength += tsp[solution[i - 1]][solution[i]]\n",
    "        return pathLength\n",
    "    else:\n",
    "        pop = x.copy()\n",
    "        obj = np.zeros(pop.shape[0])\n",
    "        # run over all population and compute the fitness value\n",
    "        for  j in range(pop.shape[0]):\n",
    "            solution = pop[j, :]\n",
    "            pathLength = 0\n",
    "            for i in range(len(solution)):\n",
    "                pathLength += tsp[solution[i - 1]][solution[i]]\n",
    "            obj[j] = pathLength\n",
    "\n",
    "        return obj"
   ]
  },
  {
   "cell_type": "markdown",
   "id": "cd8df7d3",
   "metadata": {},
   "source": [
    "## Update pheromone\n",
    "delta tau is the change of the pheromone, which is created by ants if the ants go through such path. <br>\n",
    "Here, delta tau defined by reciprocal of length and multiply parameter Q."
   ]
  },
  {
   "cell_type": "code",
   "execution_count": 5,
   "id": "cb733bd4",
   "metadata": {},
   "outputs": [],
   "source": [
    "def update_pheromone(pher_tab, distmat, pathtable, rho, Q):\n",
    "    # evaporate pheromone all the path\n",
    "    pheromone_tab = pher_tab.copy()\n",
    "    pheromone_tab = (1-rho)*pheromone_tab\n",
    "\n",
    "    #Add pheromone to the path of the ants\n",
    "    num_cities = np.shape(pathtable)[1]\n",
    "    for solution in pathtable:\n",
    "        # update pheromone on each path (city i, city j) by such ant\n",
    "        for j in range(num_cities-1):\n",
    "            city1 = solution[j]\n",
    "            city2 = solution[j+1]\n",
    "            pheromone_drop_amount = Q/distmat[city1, city2] # delta tau\n",
    "            pheromone_tab[city1, city2] = pheromone_tab[city1, city2] + pheromone_drop_amount\n",
    "        \n",
    "        # cycle: deal with last city\n",
    "        city2 = solution[0]\n",
    "        pheromone_drop_amount = Q/distmat[city1, city2] # delta tau\n",
    "        pheromone_tab[city1, city2] = pheromone_tab[city1, city2] + pheromone_drop_amount\n",
    "            \n",
    "    return pheromone_tab"
   ]
  },
  {
   "cell_type": "markdown",
   "id": "ff15cdfa",
   "metadata": {},
   "source": [
    "## Construct a path for an ant\n",
    "Here the transition probability is create by (pheromone^alpha * visibility^beta). <br>\n",
    "where visibility is create by reciprocal of length."
   ]
  },
  {
   "cell_type": "code",
   "execution_count": 6,
   "id": "a16eb8ed",
   "metadata": {},
   "outputs": [],
   "source": [
    "def do_roulette_wheel_selection(fitness_list):\n",
    "    vecindex = np.array(range(len(fitness_list)))\n",
    "    sum_fitness = sum(fitness_list)\n",
    "    transition_probability = np.array(fitness_list)/sum_fitness\n",
    "    # construct the roulette wheel by cumulation\n",
    "    roulette_wheel = transition_probability.cumsum()\n",
    "    # construct a dart\n",
    "    dart = random.random()\n",
    "    # shoot the dart\n",
    "    next_index = vecindex[np.where(roulette_wheel>dart)[0]][0] # next index instead of city id\n",
    "    return next_index"
   ]
  },
  {
   "cell_type": "code",
   "execution_count": 7,
   "id": "199bffb3",
   "metadata": {},
   "outputs": [],
   "source": [
    "def Construct_a_Path(pheromone_tab, distmat, alpha, beta):\n",
    "    num_cities = np.shape(pheromone_tab)[1]\n",
    "    # total number of city\n",
    "    a_path = [-1]*num_cities\n",
    "    # the candidate cities \n",
    "    candidates = list(range(num_cities))\n",
    "\n",
    "    # random choose city as first city \n",
    "    city_cur = random.choice(candidates)\n",
    "    a_path[0] = city_cur\n",
    "    candidates.remove(city_cur)\n",
    "\n",
    "    # select best from candiate\n",
    "    for t in range(1, num_cities-1):\n",
    "        # construct the transition probability list of next step\n",
    "        transprob_list = []\n",
    "        for city_next in candidates:\n",
    "            transprob = pow(pheromone_tab[city_cur, city_next], alpha)*\\\n",
    "                pow(1/distmat[city_cur, city_next], beta)\n",
    "            transprob_list.append(transprob)\n",
    "        \n",
    "        # select best as next step by roulette wheel\n",
    "        idx = do_roulette_wheel_selection(transprob_list) # output index instead of city-id\n",
    "        next_city_id = candidates[idx] # convert index to city-id\n",
    "        candidates.remove(next_city_id)\n",
    "        a_path[t] = next_city_id\n",
    "        city_cur = next_city_id # update current city\n",
    "        \n",
    "    a_path[-1] = candidates.pop()\n",
    "    \n",
    "    return np.array(a_path)"
   ]
  },
  {
   "cell_type": "markdown",
   "id": "62b09bd8",
   "metadata": {},
   "source": [
    "## Main"
   ]
  },
  {
   "cell_type": "code",
   "execution_count": 8,
   "id": "e0ee0b0b",
   "metadata": {
    "scrolled": true
   },
   "outputs": [
    {
     "name": "stdout",
     "output_type": "stream",
     "text": [
      "Step: 0 f best: 15.926\n",
      "Step: 1 f best: 15.926\n",
      "Step: 2 f best: 15.825999999999999\n",
      "Step: 3 f best: 15.825999999999999\n",
      "Step: 4 f best: 15.676\n",
      "Step: 5 f best: 15.676\n",
      "Step: 6 f best: 15.676\n",
      "Step: 7 f best: 15.676\n",
      "Step: 8 f best: 15.676\n",
      "Step: 9 f best: 15.676\n",
      "Step: 10 f best: 15.676\n",
      "Step: 11 f best: 15.676\n",
      "Step: 12 f best: 15.676\n",
      "Step: 13 f best: 15.676\n",
      "Step: 14 f best: 15.676\n",
      "Step: 15 f best: 15.676\n",
      "Step: 16 f best: 15.676\n",
      "Step: 17 f best: 15.676\n",
      "Step: 18 f best: 15.676\n",
      "Step: 19 f best: 15.676\n"
     ]
    }
   ],
   "source": [
    "# max number of step\n",
    "n = 20\n",
    "\n",
    "# number of city and ants\n",
    "numant = 20\n",
    "numcity = tsp.shape[0] \n",
    "\n",
    "# parameter\n",
    "alpha = 1.0  # pheromine factor (Proportional to number of ants through the path i,j)\n",
    "beta = 2.0  # Visibility facor. Set 0 means random search\n",
    "rho = 0.8  # evaporate rate\n",
    "Q = 10.0 # pheromone\n",
    "\n",
    "# decalre pheromone table and path table\n",
    "pheromone_tab = np.ones((numcity, numcity)) # pheromone table\n",
    "path_tab = np.zeros((numant, numcity)).astype(int) # path table of each ant\n",
    "\n",
    "\n",
    "# declare record\n",
    "f_best = np.inf\n",
    "fb_record = np.zeros(n)\n",
    "fm_record = np.zeros(n)\n",
    "\n",
    "\n",
    "for cycle in range(n):\n",
    "    # run over all ants\n",
    "    for j in range(numant):\n",
    "        # create a path of an ant\n",
    "        asolu = Construct_a_Path(pheromone_tab, tsp, alpha, beta)\n",
    "        path_tab[j, :] = asolu\n",
    "    \n",
    "    \n",
    "    objs = routeLength(tsp, path_tab)    \n",
    "    \n",
    "    # update the global best\n",
    "    if np.min(objs) < f_best:\n",
    "        f_best = np.min(objs) # update best length\n",
    "        x_best = path_tab[objs.argmin()].copy()\n",
    "        fb_record[cycle] = np.min(objs)\n",
    "    else:\n",
    "        fb_record[cycle] = f_best\n",
    "    \n",
    "    # record the mean of path length at such iteration\n",
    "    fm_record[cycle] = np.mean(objs)\n",
    "    \n",
    "    # update the pheromone\n",
    "    pheromone_tab = update_pheromone(pheromone_tab, tsp, path_tab, rho, Q)\n",
    "    \n",
    "    print('Step: ' + str(cycle) + ' f best: ' + str(fb_record[cycle]))"
   ]
  },
  {
   "cell_type": "code",
   "execution_count": 9,
   "id": "902870ff",
   "metadata": {},
   "outputs": [
    {
     "name": "stdout",
     "output_type": "stream",
     "text": [
      "Best solution: [8 9 4 0 5 3 7 2 6 1]\n",
      "Best objective: 15.676\n"
     ]
    }
   ],
   "source": [
    "print('Best solution: ' + str(x_best))\n",
    "print('Best objective: ' + str(f_best))"
   ]
  },
  {
   "cell_type": "code",
   "execution_count": 10,
   "id": "ac277b1c",
   "metadata": {
    "scrolled": false
   },
   "outputs": [
    {
     "data": {
      "text/plain": [
       "<function matplotlib.pyplot.show(close=None, block=None)>"
      ]
     },
     "execution_count": 10,
     "metadata": {},
     "output_type": "execute_result"
    },
    {
     "data": {
      "image/png": "[encoded data removed]",
      "text/plain": [
       "<Figure size 432x288 with 1 Axes>"
      ]
     },
     "metadata": {
      "needs_background": "light"
     },
     "output_type": "display_data"
    },
    {
     "data": {
      "image/png": "[encoded data removed]",
      "text/plain": [
       "<Figure size 432x288 with 1 Axes>"
      ]
     },
     "metadata": {
      "needs_background": "light"
     },
     "output_type": "display_data"
    }
   ],
   "source": [
    "fig = plt.figure()\n",
    "plt.plot(np.arange(1, n+1), fm_record,'r-o')\n",
    "plt.legend(['Current route path'])\n",
    "plt.ylabel(\"Mean of current length of route path\")\n",
    "plt.xlabel(\"Step\")\n",
    "# fig.savefig(\"fig/aco-curobj.png\")\n",
    "\n",
    "fig = plt.figure()\n",
    "plt.plot(np.arange(1, n+1), fb_record,'b-o')\n",
    "plt.ylabel(\"Best objective value\")\n",
    "plt.xlabel(\"Step\")\n",
    "plt.show\n",
    "# fig.savefig(\"pso-best.png\")"
   ]
  },
  {
   "cell_type": "code",
   "execution_count": 11,
   "id": "48770173",
   "metadata": {
    "scrolled": false
   },
   "outputs": [
    {
     "name": "stdout",
     "output_type": "stream",
     "text": [
      "中坡-->向揚-->玉成-->佳樂-->中貿-->庄研-->中研-->忠陽-->昆陽-->玉德-->中坡\n"
     ]
    }
   ],
   "source": [
    "listseven = list(adj_mat.columns)\n",
    "numofseven = len(listseven)\n",
    "startidx = np.where(x_best==0)[0][0] # this is 中坡 in x_best\n",
    "pathlist = []\n",
    "pathlist = listseven[0]\n",
    "\n",
    "for i in range(1, len(x_best)):\n",
    "    city_id = x_best[(startidx+i)%len(x_best)]\n",
    "    pathlist = pathlist + '-->' + listseven[city_id]\n",
    "\n",
    "pathlist = pathlist + '-->' + listseven[0]\n",
    "print(pathlist)"
   ]
  },
  {
   "cell_type": "code",
   "execution_count": 14,
   "id": "850d23b7",
   "metadata": {
    "scrolled": true
   },
   "outputs": [
    {
     "data": {
      "image/png": "[encoded data removed]",
      "text/plain": [
       "<Figure size 432x288 with 1 Axes>"
      ]
     },
     "metadata": {
      "needs_background": "light"
     },
     "output_type": "display_data"
    }
   ],
   "source": [
    "import json\n",
    "import pandas as pd\n",
    "\n",
    "with open(file='data/position_test.json', mode='r', encoding='utf-8') as reader:\n",
    "    pos_matrix = json.load(reader)\n",
    "\n",
    "# converting json dataset from dictionary to dataframe\n",
    "pos_mat = pd.DataFrame.from_dict(pos_matrix)\n",
    "\n",
    "listseven = list(pos_mat.columns)\n",
    "x_coor = []\n",
    "y_coor = []\n",
    "\n",
    "startidx = np.where(x_best==0)[0][0] # this is city-0 (中坡) in x_best\n",
    "pathlist = []\n",
    "pathlist = listseven[0]\n",
    "\n",
    "for i in range(0, len(x_best)):\n",
    "    city_id = x_best[(startidx+i)%len(x_best)] # from city-0 go a cycle\n",
    "    x_coor.append(pos_mat[listseven[city_id]][0])\n",
    "    y_coor.append(pos_mat[listseven[city_id]][1])\n",
    "\n",
    "# go back to city-0\n",
    "x_coor.append(pos_mat[listseven[x_best[startidx]]][0])\n",
    "y_coor.append(pos_mat[listseven[x_best[startidx]]][1])\n",
    "\n",
    "fig = plt.figure()\n",
    "plt.plot(x_coor, y_coor, 'o-', label='_nolegend_', markersize=8)\n",
    "plt.plot(x_coor[x_best[startidx]], y_coor[x_best[startidx]], 'go', markersize=10)\n",
    "plt.xticks([121.58, 121.59, 121.60, 121.61],rotation=10)\n",
    "plt.xlabel(\"longitude ($^{\\circ}$E)\")\n",
    "plt.ylabel(\"latitude ($^{\\circ}$N)\")\n",
    "plt.legend(['7-Eleven Chung-Po'])\n",
    "plt.title('Illustration of route diagram of 36 7-Eleven (not real route)')\n",
    "for i, txt in enumerate(range(len(x_best))):\n",
    "    plt.annotate(txt, (x_coor[i], y_coor[i]), xytext=(+1, +1), textcoords='offset points')\n",
    "fig.tight_layout()\n",
    "# fig.savefig(\"fig/aco-path-2.png\")"
   ]
  },
  {
   "cell_type": "code",
   "execution_count": 15,
   "id": "26fc50e6",
   "metadata": {},
   "outputs": [],
   "source": [
    "from numpy import save\n",
    "# save('result/aco-bestobj.npy', fb_record)"
   ]
  },
  {
   "cell_type": "markdown",
   "id": "bdd4aea6",
   "metadata": {},
   "source": [
    "## Reference\n",
    "1. https://medium.com/qiubingcheng/%E4%BB%A5python%E5%AF%A6%E4%BD%9C%E8%9F%BB%E7%BE%A4%E6%9C%80%E4%BD%B3%E5%8C%96%E6%BC%94%E7%AE%97%E6%B3%95-ant-colony-optimization-aco-%E4%B8%A6%E8%A7%A3%E6%B1%BAtsp%E5%95%8F%E9%A1%8C-%E4%B8%8A-b8c1a345c5a1\n",
    "2. https://github.com/QiuBingCheng/HeuristicAlgorithms/blob/main/ant_system.py\n",
    "3. https://www.itread01.com/article/1510564799.html"
   ]
  },
  {
   "cell_type": "code",
   "execution_count": null,
   "id": "deccd4d3",
   "metadata": {},
   "outputs": [],
   "source": []
  }
 ],
 "metadata": {
  "kernelspec": {
   "display_name": "Python 3",
   "language": "python",
   "name": "python3"
  },
  "language_info": {
   "codemirror_mode": {
    "name": "ipython",
    "version": 3
   },
   "file_extension": ".py",
   "mimetype": "text/x-python",
   "name": "python",
   "nbconvert_exporter": "python",
   "pygments_lexer": "ipython3",
   "version": "3.9.2"
  }
 },
 "nbformat": 4,
 "nbformat_minor": 5
}
