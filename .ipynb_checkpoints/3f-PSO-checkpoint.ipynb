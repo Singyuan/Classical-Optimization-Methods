{
 "cells": [
  {
   "cell_type": "code",
   "execution_count": 14,
   "id": "4a9f3ada",
   "metadata": {
    "scrolled": true
   },
   "outputs": [
    {
     "name": "stdout",
     "output_type": "stream",
     "text": [
      "Once deleted, variables cannot be recovered. Proceed (y/[n])? y\n"
     ]
    }
   ],
   "source": [
    "%reset"
   ]
  },
  {
   "cell_type": "code",
   "execution_count": 1,
   "id": "66a461ac",
   "metadata": {},
   "outputs": [],
   "source": [
    "import matplotlib\n",
    "import numpy as np\n",
    "import matplotlib.pyplot as plt\n",
    "import random\n",
    "import math"
   ]
  },
  {
   "cell_type": "code",
   "execution_count": 2,
   "id": "a6502ef3",
   "metadata": {
    "scrolled": true
   },
   "outputs": [
    {
     "data": {
      "text/html": [
       "<div>\n",
       "<style scoped>\n",
       "    .dataframe tbody tr th:only-of-type {\n",
       "        vertical-align: middle;\n",
       "    }\n",
       "\n",
       "    .dataframe tbody tr th {\n",
       "        vertical-align: top;\n",
       "    }\n",
       "\n",
       "    .dataframe thead th {\n",
       "        text-align: right;\n",
       "    }\n",
       "</style>\n",
       "<table border=\"1\" class=\"dataframe\">\n",
       "  <thead>\n",
       "    <tr style=\"text-align: right;\">\n",
       "      <th></th>\n",
       "      <th>中坡</th>\n",
       "      <th>中研</th>\n",
       "      <th>中貿</th>\n",
       "      <th>玉成</th>\n",
       "      <th>玉德</th>\n",
       "      <th>向揚</th>\n",
       "      <th>庄研</th>\n",
       "      <th>佳樂</th>\n",
       "      <th>忠陽</th>\n",
       "      <th>昆陽</th>\n",
       "    </tr>\n",
       "  </thead>\n",
       "  <tbody>\n",
       "    <tr>\n",
       "      <th>中坡</th>\n",
       "      <td>0.00</td>\n",
       "      <td>5.5</td>\n",
       "      <td>4.7</td>\n",
       "      <td>2.2</td>\n",
       "      <td>0.35</td>\n",
       "      <td>2.4</td>\n",
       "      <td>5.6</td>\n",
       "      <td>3.4</td>\n",
       "      <td>2.00</td>\n",
       "      <td>1.7</td>\n",
       "    </tr>\n",
       "    <tr>\n",
       "      <th>中研</th>\n",
       "      <td>5.50</td>\n",
       "      <td>0.0</td>\n",
       "      <td>3.0</td>\n",
       "      <td>4.6</td>\n",
       "      <td>5.50</td>\n",
       "      <td>4.5</td>\n",
       "      <td>1.3</td>\n",
       "      <td>2.9</td>\n",
       "      <td>4.10</td>\n",
       "      <td>4.7</td>\n",
       "    </tr>\n",
       "    <tr>\n",
       "      <th>中貿</th>\n",
       "      <td>4.70</td>\n",
       "      <td>3.0</td>\n",
       "      <td>0.0</td>\n",
       "      <td>3.4</td>\n",
       "      <td>4.50</td>\n",
       "      <td>3.3</td>\n",
       "      <td>2.6</td>\n",
       "      <td>1.5</td>\n",
       "      <td>3.00</td>\n",
       "      <td>3.6</td>\n",
       "    </tr>\n",
       "    <tr>\n",
       "      <th>玉成</th>\n",
       "      <td>2.20</td>\n",
       "      <td>4.6</td>\n",
       "      <td>3.4</td>\n",
       "      <td>0.0</td>\n",
       "      <td>2.30</td>\n",
       "      <td>0.4</td>\n",
       "      <td>4.5</td>\n",
       "      <td>1.6</td>\n",
       "      <td>0.45</td>\n",
       "      <td>0.5</td>\n",
       "    </tr>\n",
       "    <tr>\n",
       "      <th>玉德</th>\n",
       "      <td>0.35</td>\n",
       "      <td>5.5</td>\n",
       "      <td>4.5</td>\n",
       "      <td>2.3</td>\n",
       "      <td>0.00</td>\n",
       "      <td>2.2</td>\n",
       "      <td>5.3</td>\n",
       "      <td>3.1</td>\n",
       "      <td>1.80</td>\n",
       "      <td>1.4</td>\n",
       "    </tr>\n",
       "  </tbody>\n",
       "</table>\n",
       "</div>"
      ],
      "text/plain": [
       "      中坡   中研   中貿   玉成    玉德   向揚   庄研   佳樂    忠陽   昆陽\n",
       "中坡  0.00  5.5  4.7  2.2  0.35  2.4  5.6  3.4  2.00  1.7\n",
       "中研  5.50  0.0  3.0  4.6  5.50  4.5  1.3  2.9  4.10  4.7\n",
       "中貿  4.70  3.0  0.0  3.4  4.50  3.3  2.6  1.5  3.00  3.6\n",
       "玉成  2.20  4.6  3.4  0.0  2.30  0.4  4.5  1.6  0.45  0.5\n",
       "玉德  0.35  5.5  4.5  2.3  0.00  2.2  5.3  3.1  1.80  1.4"
      ]
     },
     "execution_count": 2,
     "metadata": {},
     "output_type": "execute_result"
    }
   ],
   "source": [
    "import json\n",
    "import pandas as pd\n",
    "\n",
    "with open(file='data/adjacency_matrix_test.json', mode='r', encoding='utf-8') as reader:\n",
    "    adjacency_matrix = json.load(reader)\n",
    "\n",
    "# converting json dataset from dictionary to dataframe\n",
    "adj_mat = pd.DataFrame.from_dict(adjacency_matrix)\n",
    "adj_mat = (adj_mat.T+adj_mat)/2 # force it to symmetry\n",
    "\n",
    "adj_mat.head()"
   ]
  },
  {
   "cell_type": "code",
   "execution_count": 3,
   "id": "5a8ff885",
   "metadata": {
    "scrolled": true
   },
   "outputs": [
    {
     "data": {
      "text/plain": [
       "(10, 10)"
      ]
     },
     "execution_count": 3,
     "metadata": {},
     "output_type": "execute_result"
    }
   ],
   "source": [
    "tsp = adj_mat.to_numpy()\n",
    "np.shape(tsp)"
   ]
  },
  {
   "cell_type": "code",
   "execution_count": 4,
   "id": "f881f78e",
   "metadata": {},
   "outputs": [],
   "source": [
    "def routeLength(tsp, x):\n",
    "    if x.ndim == 1:\n",
    "        solution = x.copy();\n",
    "        pathLength = 0\n",
    "        for i in range(len(solution)):\n",
    "            pathLength += tsp[solution[i - 1]][solution[i]]\n",
    "        return pathLength\n",
    "    else:\n",
    "        pop = x.copy()\n",
    "        obj = np.zeros(pop.shape[0])\n",
    "        # run over all population and compute the fitness value\n",
    "        for  j in range(pop.shape[0]):\n",
    "            solution = pop[j, :]\n",
    "            pathLength = 0\n",
    "            for i in range(len(solution)):\n",
    "                pathLength += tsp[solution[i - 1]][solution[i]]\n",
    "            obj[j] = pathLength\n",
    "\n",
    "        return obj"
   ]
  },
  {
   "cell_type": "markdown",
   "id": "89b03c2b",
   "metadata": {},
   "source": [
    "## Velocity of two particle (path)\n",
    "define difference of two particle is \"pair of permutations\""
   ]
  },
  {
   "cell_type": "code",
   "execution_count": 5,
   "id": "c9496ca8",
   "metadata": {},
   "outputs": [],
   "source": [
    "def find_move(best, x_cur):\n",
    "    # v = best - x_cur\n",
    "    x = x_cur.copy()\n",
    "    numofcity = len(best)   # get length\n",
    "    moveperm = []\n",
    "    for i in range(numofcity):\n",
    "        # check if the best[i] equal to x[i]\n",
    "        idxinx = np.where(x == best[i])[0]\n",
    "        \n",
    "        # if not, swap\n",
    "        if i != idxinx:\n",
    "            move = [x[i], x[idxinx][0]]\n",
    "            moveperm.append(move)\n",
    "            x[idxinx], x[i] = x[i], x[idxinx]\n",
    "            \n",
    "    return moveperm"
   ]
  },
  {
   "cell_type": "markdown",
   "id": "d8cb8de0",
   "metadata": {},
   "source": [
    "## Update the position\n",
    "position plus velocity equal to number of permutation act on position"
   ]
  },
  {
   "cell_type": "code",
   "execution_count": 6,
   "id": "bcacbd6f",
   "metadata": {
    "scrolled": true
   },
   "outputs": [],
   "source": [
    "def updatepos(x_cur, moves):\n",
    "    x = x_cur.copy()\n",
    "    for i in range(len(moves)):\n",
    "        move = moves[i]\n",
    "        idx1 = np.where(x == move[0])[0]\n",
    "        idx2 = np.where(x == move[1])[0]\n",
    "        x[idx1], x[idx2] = x[idx2], x[idx1]\n",
    "\n",
    "    return x"
   ]
  },
  {
   "cell_type": "markdown",
   "id": "f53b50d9",
   "metadata": {},
   "source": [
    "## Update the velocity\n",
    "Velocity is from three part: inertia, local best, global best. Here, the coefficient of three components can only less than 1. It stands for how many permutation should be take."
   ]
  },
  {
   "cell_type": "code",
   "execution_count": 7,
   "id": "4e35feac",
   "metadata": {},
   "outputs": [],
   "source": [
    "def updatemove(w, cr1, cr2, moves_inertia, moves_loc, moves_global, maxv):\n",
    "    # v = w*moves_inertia + cr1*moves_loc + cr2*moves_global\n",
    "    \n",
    "    # scalar times velocity\n",
    "    wint = np.floor(w*len(moves_inertia)).astype(int)\n",
    "    cr1int = np.floor(cr1*len(moves_loc)).astype(int)\n",
    "    cr2int = np.floor(cr2*len(moves_global)).astype(int)\n",
    "    # summation three part of velocity\n",
    "    moves = moves_inertia[0:wint]\n",
    "    moves.extend(moves_loc[0:cr1int])\n",
    "    moves.extend(moves_global[0:cr2int])\n",
    "    \n",
    "    # avoid velocity too large\n",
    "    if len(moves) > maxv:\n",
    "        numofdel = len(moves)-maxv\n",
    "        idx = np.random.permutation(len(moves))\n",
    "        for i in range(numofdel):\n",
    "            moves.pop()\n",
    "    \n",
    "    return moves"
   ]
  },
  {
   "cell_type": "markdown",
   "id": "ff9ec3be",
   "metadata": {},
   "source": [
    "## Main"
   ]
  },
  {
   "cell_type": "code",
   "execution_count": 8,
   "id": "907369a2",
   "metadata": {
    "scrolled": false
   },
   "outputs": [
    {
     "name": "stdout",
     "output_type": "stream",
     "text": [
      "Step: 0 f best: 35.79999999999999\n",
      "Step: 1 f best: 20.299999999999997\n",
      "Step: 2 f best: 20.299999999999997\n",
      "Step: 3 f best: 20.299999999999997\n",
      "Step: 4 f best: 20.299999999999997\n",
      "Step: 5 f best: 20.299999999999997\n",
      "Step: 6 f best: 17.526\n",
      "Step: 7 f best: 17.526\n",
      "Step: 8 f best: 17.526\n",
      "Step: 9 f best: 17.526\n",
      "Step: 10 f best: 17.526\n",
      "Step: 11 f best: 17.526\n",
      "Step: 12 f best: 17.526\n",
      "Step: 13 f best: 17.526\n",
      "Step: 14 f best: 17.526\n",
      "Step: 15 f best: 17.526\n",
      "Step: 16 f best: 17.526\n",
      "Step: 17 f best: 17.526\n",
      "Step: 18 f best: 17.526\n",
      "Step: 19 f best: 17.526\n"
     ]
    }
   ],
   "source": [
    "# max number of step\n",
    "n = 20\n",
    "\n",
    "# cognition factor and social factor\n",
    "c1 = c2 = 1.0 # only can be 1\n",
    "w = 1.0 # only can be 1\n",
    "maxv = 15\n",
    "\n",
    "# determine the population size\n",
    "pop_size = 20\n",
    "pop_dim = np.shape(tsp)[1]\n",
    "\n",
    "# Initialize x\n",
    "# x is of size (num of particle)-by-(dim of a point)\n",
    "x_start = np.zeros((pop_size, pop_dim), dtype=int)\n",
    "for j in range(pop_size):\n",
    "    x_start[j, :] = np.random.permutation(pop_dim) \n",
    "particle, dim = x_start.shape\n",
    "# initial velocity by empty list with size 0f 1-by-pop_size\n",
    "v = [[] for _ in range(pop_size)]\n",
    "\n",
    "# locol best & global best\n",
    "x_loc_best = x_start.copy()\n",
    "loc_best_obj = routeLength(tsp, x_start)\n",
    "x_global_best = x_loc_best[loc_best_obj.argmin(), :]\n",
    "global_best_obj = loc_best_obj.min()\n",
    "\n",
    "# initial position and velocity\n",
    "x_cur = x_start.copy()\n",
    "\n",
    "# record the global best and local current (not best) objective\n",
    "fb_record = np.zeros(n+1)\n",
    "fm_record = np.zeros(n+1)\n",
    "objs = routeLength(tsp, x_start)\n",
    "fb_record[0] = np.max(objs)\n",
    "fm_record[0] = np.mean(objs)\n",
    "# floc_record = np.zeros((particle, n+1))\n",
    "# floc_record[:, 0] = f(x_start)\n",
    "\n",
    "\n",
    "for i in range(n):\n",
    "    print('Step: ' + str(i) + ' f best: ' + str(fb_record[i]))\n",
    "    r1, r2 = np.random.rand(2)\n",
    "    # run over all particles and update the position\n",
    "    for j, solution in enumerate(x_cur):\n",
    "        # find velocity and update velocity\n",
    "        moves_inertia = v[j]\n",
    "        move_loc = find_move(x_loc_best[j, :], solution)\n",
    "        move_global = find_move(x_global_best, solution)\n",
    "        tempv = updatemove(w, c1*r1, c2*r2, moves_inertia, move_loc, move_global, maxv)\n",
    "        v[j] = tempv\n",
    "        # update position\n",
    "        tempx = updatepos(x_cur[j, :], tempv)\n",
    "        x_cur[j, :] = tempx\n",
    "    \n",
    "    # run over all particles and update the local and global best\n",
    "    obj = routeLength(tsp, x_cur)\n",
    "    for j, solution in enumerate(x_cur):\n",
    "        # update the local best (min)\n",
    "        if (obj[j] < loc_best_obj[j]):\n",
    "            x_loc_best[j, :] = solution.copy()\n",
    "            loc_best_obj[j] = obj[j].copy()\n",
    "                \n",
    "            # update the global best (min)\n",
    "            if (obj[j] < global_best_obj):\n",
    "                x_global_best = solution.copy()\n",
    "                global_best_obj = obj[j].copy()\n",
    "    \n",
    "    # check whether converge\n",
    "    conv = True\n",
    "    for j in range(1, x_cur.shape[0]):\n",
    "        if not np.array_equal(x_cur[0, :], x_cur[j, :]):\n",
    "            conv = False\n",
    "            break\n",
    "    if conv:\n",
    "        print(\"All particle are at the same position.\")\n",
    "        break\n",
    "                \n",
    "    fb_record[i+1] = global_best_obj\n",
    "    fm_record[i+1] = np.mean(obj)"
   ]
  },
  {
   "cell_type": "code",
   "execution_count": 9,
   "id": "65c63cb1",
   "metadata": {
    "scrolled": true
   },
   "outputs": [
    {
     "name": "stdout",
     "output_type": "stream",
     "text": [
      "Best solution: [7 4 0 5 9 8 3 1 6 2]\n",
      "Best objective: 17.526\n"
     ]
    }
   ],
   "source": [
    "print('Best solution: ' + str(x_global_best))\n",
    "print('Best objective: ' + str(routeLength(tsp, x_global_best)))"
   ]
  },
  {
   "cell_type": "code",
   "execution_count": 10,
   "id": "73430279",
   "metadata": {
    "scrolled": false
   },
   "outputs": [
    {
     "data": {
      "text/plain": [
       "<function matplotlib.pyplot.show(close=None, block=None)>"
      ]
     },
     "execution_count": 10,
     "metadata": {},
     "output_type": "execute_result"
    },
    {
     "data": {
      "image/png": "[encoded data removed]",
      "text/plain": [
       "<Figure size 432x288 with 1 Axes>"
      ]
     },
     "metadata": {
      "needs_background": "light"
     },
     "output_type": "display_data"
    },
    {
     "data": {
      "image/png": "[encoded data removed]",
      "text/plain": [
       "<Figure size 432x288 with 1 Axes>"
      ]
     },
     "metadata": {
      "needs_background": "light"
     },
     "output_type": "display_data"
    }
   ],
   "source": [
    "fig = plt.figure()\n",
    "plt.plot(np.arange(0, n+1), fm_record,'r-o')\n",
    "plt.legend(['Current route path'])\n",
    "plt.ylabel(\"Mean of current length of route path\")\n",
    "plt.xlabel(\"Step\")\n",
    "# fig.savefig(\"fig/pso-curobj.png\")\n",
    "\n",
    "fig = plt.figure()\n",
    "plt.plot(np.arange(0, n+1), fb_record,'b-o')\n",
    "plt.ylabel(\"Best objective value\")\n",
    "plt.xlabel(\"Step\")\n",
    "plt.show\n",
    "# fig.savefig(\"pso-best.png\")"
   ]
  },
  {
   "cell_type": "code",
   "execution_count": 11,
   "id": "b7815246",
   "metadata": {},
   "outputs": [
    {
     "name": "stdout",
     "output_type": "stream",
     "text": [
      "中坡-->向揚-->昆陽-->忠陽-->玉成-->中研-->庄研-->中貿-->佳樂-->玉德-->中坡\n"
     ]
    }
   ],
   "source": [
    "listseven = list(adj_mat.columns)\n",
    "numofseven = len(listseven)\n",
    "startidx = np.where(x_global_best==0)[0][0] # this is 中坡 in x_best\n",
    "pathlist = []\n",
    "pathlist = listseven[0]\n",
    "\n",
    "for i in range(1, len(x_global_best)):\n",
    "    city_id = x_global_best[(startidx+i)%len(x_global_best)]\n",
    "    pathlist = pathlist + '-->' + listseven[city_id]\n",
    "\n",
    "pathlist = pathlist + '-->' + listseven[0]\n",
    "print(pathlist)"
   ]
  },
  {
   "cell_type": "code",
   "execution_count": 13,
   "id": "695cc28d",
   "metadata": {
    "scrolled": true
   },
   "outputs": [
    {
     "data": {
      "image/png": "[encoded data removed]",
      "text/plain": [
       "<Figure size 432x288 with 1 Axes>"
      ]
     },
     "metadata": {
      "needs_background": "light"
     },
     "output_type": "display_data"
    }
   ],
   "source": [
    "import json\n",
    "import pandas as pd\n",
    "\n",
    "with open(file='data/position_test.json', mode='r', encoding='utf-8') as reader:\n",
    "    pos_matrix = json.load(reader)\n",
    "\n",
    "# converting json dataset from dictionary to dataframe\n",
    "pos_mat = pd.DataFrame.from_dict(pos_matrix)\n",
    "\n",
    "listseven = list(pos_mat.columns)\n",
    "x_coor = []\n",
    "y_coor = []\n",
    "\n",
    "startidx = np.where(x_global_best==0)[0][0] # this is city-0 (中坡) in x_best\n",
    "pathlist = []\n",
    "pathlist = listseven[0]\n",
    "\n",
    "for i in range(0, len(x_global_best)):\n",
    "    city_id = x_global_best[(startidx+i)%len(x_global_best)] # from city-0 go a cycle\n",
    "    x_coor.append(pos_mat[listseven[city_id]][0])\n",
    "    y_coor.append(pos_mat[listseven[city_id]][1])\n",
    "\n",
    "# go back to city-0\n",
    "x_coor.append(pos_mat[listseven[x_global_best[startidx]]][0])\n",
    "y_coor.append(pos_mat[listseven[x_global_best[startidx]]][1])\n",
    "\n",
    "# plt.plot(x_coor, y_coor, 'o-')\n",
    "# plt.plot(x_coor[x_global_best[startidx]], y_coor[x_global_best[startidx]], 'go')\n",
    "\n",
    "fig = plt.figure()\n",
    "plt.plot(x_coor, y_coor, 'o-', label='_nolegend_', markersize=8)\n",
    "plt.plot(x_coor[x_global_best[startidx]], y_coor[x_global_best[startidx]], 'go', markersize=10)\n",
    "plt.xticks([121.58, 121.59, 121.60, 121.61],rotation=10)\n",
    "plt.xlabel(\"longitude ($^{\\circ}$E)\")\n",
    "plt.ylabel(\"latitude ($^{\\circ}$N)\")\n",
    "plt.legend(['7-Eleven Chung-Po'])\n",
    "plt.title('Illustration of route diagram of 36 7-Eleven (not real route)')\n",
    "for i, txt in enumerate(range(len(x_global_best))):\n",
    "    plt.annotate(txt, (x_coor[i], y_coor[i]), xytext=(+1, +1), textcoords='offset points')\n",
    "fig.tight_layout()\n",
    "# fig.savefig(\"fig/pso-path-2.png\")"
   ]
  },
  {
   "cell_type": "code",
   "execution_count": 14,
   "id": "4bd293ca",
   "metadata": {},
   "outputs": [],
   "source": [
    "from numpy import save\n",
    "# save('result/pso-bestobj.npy', fb_record)"
   ]
  },
  {
   "cell_type": "markdown",
   "id": "550ef671",
   "metadata": {},
   "source": [
    "## Reference\n",
    "1. https://github.com/cuntou0906/TSP/tree/master/PSOUpdate\n",
    "2. https://www.sciencedirect.com/science/article/abs/pii/S0020019007000804\n",
    "3. https://blog.csdn.net/wc13197389627/article/details/85345355"
   ]
  },
  {
   "cell_type": "code",
   "execution_count": null,
   "id": "9841afdb",
   "metadata": {},
   "outputs": [],
   "source": []
  }
 ],
 "metadata": {
  "kernelspec": {
   "display_name": "Python 3",
   "language": "python",
   "name": "python3"
  },
  "language_info": {
   "codemirror_mode": {
    "name": "ipython",
    "version": 3
   },
   "file_extension": ".py",
   "mimetype": "text/x-python",
   "name": "python",
   "nbconvert_exporter": "python",
   "pygments_lexer": "ipython3",
   "version": "3.9.2"
  }
 },
 "nbformat": 4,
 "nbformat_minor": 5
}
