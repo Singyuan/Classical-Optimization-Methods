{
 "cells": [
  {
   "cell_type": "code",
   "execution_count": 12,
   "id": "ee105e29",
   "metadata": {},
   "outputs": [
    {
     "name": "stdout",
     "output_type": "stream",
     "text": [
      "Once deleted, variables cannot be recovered. Proceed (y/[n])? y\n"
     ]
    }
   ],
   "source": [
    "%reset"
   ]
  },
  {
   "cell_type": "code",
   "execution_count": 2,
   "id": "4136fa49",
   "metadata": {},
   "outputs": [],
   "source": [
    "import matplotlib\n",
    "import numpy as np\n",
    "import matplotlib.pyplot as plt\n",
    "import random\n",
    "import math"
   ]
  },
  {
   "cell_type": "code",
   "execution_count": 3,
   "id": "24f8e786",
   "metadata": {
    "scrolled": true
   },
   "outputs": [
    {
     "data": {
      "text/html": [
       "<div>\n",
       "<style scoped>\n",
       "    .dataframe tbody tr th:only-of-type {\n",
       "        vertical-align: middle;\n",
       "    }\n",
       "\n",
       "    .dataframe tbody tr th {\n",
       "        vertical-align: top;\n",
       "    }\n",
       "\n",
       "    .dataframe thead th {\n",
       "        text-align: right;\n",
       "    }\n",
       "</style>\n",
       "<table border=\"1\" class=\"dataframe\">\n",
       "  <thead>\n",
       "    <tr style=\"text-align: right;\">\n",
       "      <th></th>\n",
       "      <th>中坡</th>\n",
       "      <th>中研</th>\n",
       "      <th>中貿</th>\n",
       "      <th>玉成</th>\n",
       "      <th>玉德</th>\n",
       "      <th>向揚</th>\n",
       "      <th>庄研</th>\n",
       "      <th>佳樂</th>\n",
       "      <th>忠陽</th>\n",
       "      <th>昆陽</th>\n",
       "    </tr>\n",
       "  </thead>\n",
       "  <tbody>\n",
       "    <tr>\n",
       "      <th>中坡</th>\n",
       "      <td>0.00</td>\n",
       "      <td>5.5</td>\n",
       "      <td>4.7</td>\n",
       "      <td>2.2</td>\n",
       "      <td>0.35</td>\n",
       "      <td>2.4</td>\n",
       "      <td>5.6</td>\n",
       "      <td>3.4</td>\n",
       "      <td>2.00</td>\n",
       "      <td>1.7</td>\n",
       "    </tr>\n",
       "    <tr>\n",
       "      <th>中研</th>\n",
       "      <td>5.50</td>\n",
       "      <td>0.0</td>\n",
       "      <td>3.0</td>\n",
       "      <td>4.6</td>\n",
       "      <td>5.50</td>\n",
       "      <td>4.5</td>\n",
       "      <td>1.3</td>\n",
       "      <td>2.9</td>\n",
       "      <td>4.10</td>\n",
       "      <td>4.7</td>\n",
       "    </tr>\n",
       "    <tr>\n",
       "      <th>中貿</th>\n",
       "      <td>4.70</td>\n",
       "      <td>3.0</td>\n",
       "      <td>0.0</td>\n",
       "      <td>3.4</td>\n",
       "      <td>4.50</td>\n",
       "      <td>3.3</td>\n",
       "      <td>2.6</td>\n",
       "      <td>1.5</td>\n",
       "      <td>3.00</td>\n",
       "      <td>3.6</td>\n",
       "    </tr>\n",
       "    <tr>\n",
       "      <th>玉成</th>\n",
       "      <td>2.20</td>\n",
       "      <td>4.6</td>\n",
       "      <td>3.4</td>\n",
       "      <td>0.0</td>\n",
       "      <td>2.30</td>\n",
       "      <td>0.4</td>\n",
       "      <td>4.5</td>\n",
       "      <td>1.6</td>\n",
       "      <td>0.45</td>\n",
       "      <td>0.5</td>\n",
       "    </tr>\n",
       "    <tr>\n",
       "      <th>玉德</th>\n",
       "      <td>0.35</td>\n",
       "      <td>5.5</td>\n",
       "      <td>4.5</td>\n",
       "      <td>2.3</td>\n",
       "      <td>0.00</td>\n",
       "      <td>2.2</td>\n",
       "      <td>5.3</td>\n",
       "      <td>3.1</td>\n",
       "      <td>1.80</td>\n",
       "      <td>1.4</td>\n",
       "    </tr>\n",
       "  </tbody>\n",
       "</table>\n",
       "</div>"
      ],
      "text/plain": [
       "      中坡   中研   中貿   玉成    玉德   向揚   庄研   佳樂    忠陽   昆陽\n",
       "中坡  0.00  5.5  4.7  2.2  0.35  2.4  5.6  3.4  2.00  1.7\n",
       "中研  5.50  0.0  3.0  4.6  5.50  4.5  1.3  2.9  4.10  4.7\n",
       "中貿  4.70  3.0  0.0  3.4  4.50  3.3  2.6  1.5  3.00  3.6\n",
       "玉成  2.20  4.6  3.4  0.0  2.30  0.4  4.5  1.6  0.45  0.5\n",
       "玉德  0.35  5.5  4.5  2.3  0.00  2.2  5.3  3.1  1.80  1.4"
      ]
     },
     "execution_count": 3,
     "metadata": {},
     "output_type": "execute_result"
    }
   ],
   "source": [
    "import json\n",
    "import pandas as pd\n",
    "\n",
    "with open(file='data/adjacency_matrix_test.json', mode='r', encoding='utf-8') as reader:\n",
    "    adjacency_matrix = json.load(reader)\n",
    "\n",
    "# converting json dataset from dictionary to dataframe\n",
    "adj_mat = pd.DataFrame.from_dict(adjacency_matrix)\n",
    "adj_mat = (adj_mat.T+adj_mat)/2 # force it to symmetry\n",
    "\n",
    "adj_mat.head()"
   ]
  },
  {
   "cell_type": "code",
   "execution_count": 4,
   "id": "f4bddd37",
   "metadata": {
    "scrolled": true
   },
   "outputs": [
    {
     "data": {
      "text/plain": [
       "(10, 10)"
      ]
     },
     "execution_count": 4,
     "metadata": {},
     "output_type": "execute_result"
    }
   ],
   "source": [
    "tsp = adj_mat.to_numpy()\n",
    "np.shape(tsp)"
   ]
  },
  {
   "cell_type": "code",
   "execution_count": 5,
   "id": "d44787d7",
   "metadata": {},
   "outputs": [],
   "source": [
    "def routeLength(tsp, solution):\n",
    "    # tsp is distance matrix\n",
    "    # solution is one path go through all seven\n",
    "    pathLength = 0\n",
    "    for i in range(len(solution)):\n",
    "        # summation from solution[-1] means sum over a cycle\n",
    "        pathLength += tsp[solution[i - 1]][solution[i]]\n",
    "    return pathLength"
   ]
  },
  {
   "cell_type": "markdown",
   "id": "4871d02a",
   "metadata": {},
   "source": [
    "## Update the position\n",
    "change two distinct index city"
   ]
  },
  {
   "cell_type": "code",
   "execution_count": 6,
   "id": "dbb0dec6",
   "metadata": {},
   "outputs": [],
   "source": [
    "def SwapMove(solution, i ,j):\n",
    "    # change the \"index i, j\" th of solution, instead of city-i and -j\n",
    "    solution_test = solution.copy()\n",
    "    solution_test[j] = solution[i]\n",
    "    solution_test[i] = solution[j]\n",
    "    return solution_test"
   ]
  },
  {
   "cell_type": "markdown",
   "id": "29eb6339",
   "metadata": {},
   "source": [
    "## Main"
   ]
  },
  {
   "cell_type": "code",
   "execution_count": 7,
   "id": "31f4f2c0",
   "metadata": {
    "scrolled": true
   },
   "outputs": [],
   "source": [
    "# max number of step\n",
    "n = 400\n",
    "# Initialize x\n",
    "numofseven = np.shape(tsp)[1]\n",
    "x_start = np.arange(0, numofseven)\n",
    "dim = len(x_start)\n",
    "\n",
    "# declare record\n",
    "x_record = np.zeros((n+1, dim))\n",
    "f_record = np.zeros((n+1))\n",
    "fb_record = np.zeros((n+1))\n",
    "\n",
    "# set initial value\n",
    "x_record[0][:] = x_start\n",
    "x_cur = x_start.copy()\n",
    "x_best = x_start.copy()\n",
    "f_record[0] = routeLength(tsp, x_start)\n",
    "fb_record[0] = routeLength(tsp, x_start) # best objective value ever\n",
    "\n",
    "for i in range(n):\n",
    "#     print('Step: ' + str(i) + ' f best: ' + str(fb_record[i]))\n",
    "    # Compute the new point\n",
    "    swapidx = random.sample(range(1, dim), 2) # fix Incheon\n",
    "    x_new = SwapMove(x_cur, swapidx[0] ,swapidx[1])\n",
    "    \n",
    "    \n",
    "    # check x_new is best\n",
    "    if (routeLength(tsp, x_new)<routeLength(tsp, x_best)):\n",
    "        x_best = x_new.copy()\n",
    "    \n",
    "    # no matter objective is good or not, update the new point\n",
    "    x_cur = x_new.copy()\n",
    "        \n",
    "    \n",
    "    x_record[i+1][:] = x_cur\n",
    "    f_record[i+1] = routeLength(tsp, x_cur)\n",
    "    fb_record[i+1] = routeLength(tsp, x_best)"
   ]
  },
  {
   "cell_type": "code",
   "execution_count": 8,
   "id": "5acb18b2",
   "metadata": {},
   "outputs": [
    {
     "name": "stdout",
     "output_type": "stream",
     "text": [
      "Best solution: [0 3 5 1 6 2 7 8 9 4]\n",
      "Best objective: 15.975999999999999\n"
     ]
    }
   ],
   "source": [
    "# print solution\n",
    "print('Best solution: ' + str(x_best))\n",
    "print('Best objective: ' + str(routeLength(tsp, x_best)))"
   ]
  },
  {
   "cell_type": "code",
   "execution_count": 9,
   "id": "ea3ab277",
   "metadata": {},
   "outputs": [
    {
     "data": {
      "text/plain": [
       "[<matplotlib.lines.Line2D at 0x12af1f400>]"
      ]
     },
     "execution_count": 9,
     "metadata": {},
     "output_type": "execute_result"
    },
    {
     "data": {
      "image/png": "[encoded data removed]",
      "text/plain": [
       "<Figure size 432x288 with 1 Axes>"
      ]
     },
     "metadata": {
      "needs_background": "light"
     },
     "output_type": "display_data"
    },
    {
     "data": {
      "image/png": "[encoded data removed]",
      "text/plain": [
       "<Figure size 432x288 with 1 Axes>"
      ]
     },
     "metadata": {
      "needs_background": "light"
     },
     "output_type": "display_data"
    }
   ],
   "source": [
    "fig = plt.figure()\n",
    "plt.plot(np.arange(0, n+1), f_record,'r-o')\n",
    "plt.legend(['Current route path'])\n",
    "plt.ylabel(\"Current length of route path\")\n",
    "plt.xlabel(\"Step\")\n",
    "# fig.savefig(\"fig/rwo-curobj.png\")\n",
    "\n",
    "fig = plt.figure()\n",
    "plt.plot(np.arange(0, n+1), fb_record,'y-o')"
   ]
  },
  {
   "cell_type": "code",
   "execution_count": 10,
   "id": "d60b862c",
   "metadata": {},
   "outputs": [
    {
     "name": "stdout",
     "output_type": "stream",
     "text": [
      "中坡-->玉成-->向揚-->中研-->庄研-->中貿-->佳樂-->忠陽-->昆陽-->玉德-->中坡\n"
     ]
    }
   ],
   "source": [
    "listseven = list(adj_mat.columns)\n",
    "numofseven = len(listseven)\n",
    "startidx = np.where(x_best==0)[0][0] # this is 中坡 in x_best\n",
    "pathlist = []\n",
    "pathlist = listseven[0]\n",
    "\n",
    "for i in range(1, len(x_best)):\n",
    "    city_id = x_best[(startidx+i)%len(x_best)]\n",
    "    pathlist = pathlist + '-->' + listseven[city_id]\n",
    "\n",
    "pathlist = pathlist + '-->' + listseven[0]\n",
    "print(pathlist)"
   ]
  },
  {
   "cell_type": "code",
   "execution_count": 13,
   "id": "34ffa9bd",
   "metadata": {},
   "outputs": [
    {
     "data": {
      "image/png": "[encoded data removed]",
      "text/plain": [
       "<Figure size 432x288 with 1 Axes>"
      ]
     },
     "metadata": {
      "needs_background": "light"
     },
     "output_type": "display_data"
    }
   ],
   "source": [
    "import json\n",
    "import pandas as pd\n",
    "\n",
    "with open(file='data/position_test.json', mode='r', encoding='utf-8') as reader:\n",
    "    pos_matrix = json.load(reader)\n",
    "\n",
    "# converting json dataset from dictionary to dataframe\n",
    "pos_mat = pd.DataFrame.from_dict(pos_matrix)\n",
    "\n",
    "listseven = list(pos_mat.columns)\n",
    "x_coor = []\n",
    "y_coor = []\n",
    "\n",
    "startidx = np.where(x_best==0)[0][0] # this is city-0 (中坡) in x_best\n",
    "pathlist = []\n",
    "pathlist = listseven[0]\n",
    "\n",
    "for i in range(0, len(x_best)):\n",
    "    city_id = x_best[(startidx+i)%len(x_best)] # from city-0 go a cycle\n",
    "    x_coor.append(pos_mat[listseven[city_id]][0])\n",
    "    y_coor.append(pos_mat[listseven[city_id]][1])\n",
    "\n",
    "# go back to city-0\n",
    "x_coor.append(pos_mat[listseven[x_best[startidx]]][0])\n",
    "y_coor.append(pos_mat[listseven[x_best[startidx]]][1])\n",
    "\n",
    "fig = plt.figure()\n",
    "plt.plot(x_coor, y_coor, 'o-', label='_nolegend_', markersize=8)\n",
    "plt.plot(x_coor[x_best[startidx]], y_coor[x_best[startidx]], 'go', markersize=10)\n",
    "plt.xticks([121.58, 121.59, 121.60, 121.61],rotation=10)\n",
    "plt.xlabel(\"longitude ($^{\\circ}$E)\")\n",
    "plt.ylabel(\"latitude ($^{\\circ}$N)\")\n",
    "plt.legend(['7-Eleven Chung-Po'])\n",
    "plt.title('Illustration of route diagram of 36 7-Eleven (not real route)')\n",
    "for i, txt in enumerate(range(len(x_best))):\n",
    "    plt.annotate(txt, (x_coor[i], y_coor[i]), xytext=(+1, +1), textcoords='offset points')\n",
    "fig.tight_layout()\n",
    "# fig.savefig(\"fig/rwo-path-2.png\")"
   ]
  },
  {
   "cell_type": "code",
   "execution_count": 14,
   "id": "7c729b87",
   "metadata": {},
   "outputs": [],
   "source": [
    "from numpy import save\n",
    "# save('result/rwo-bestobj.npy', fb_record)"
   ]
  },
  {
   "cell_type": "code",
   "execution_count": null,
   "id": "4ddc3d6a",
   "metadata": {},
   "outputs": [],
   "source": []
  }
 ],
 "metadata": {
  "kernelspec": {
   "display_name": "Python 3",
   "language": "python",
   "name": "python3"
  },
  "language_info": {
   "codemirror_mode": {
    "name": "ipython",
    "version": 3
   },
   "file_extension": ".py",
   "mimetype": "text/x-python",
   "name": "python",
   "nbconvert_exporter": "python",
   "pygments_lexer": "ipython3",
   "version": "3.9.2"
  }
 },
 "nbformat": 4,
 "nbformat_minor": 5
}
