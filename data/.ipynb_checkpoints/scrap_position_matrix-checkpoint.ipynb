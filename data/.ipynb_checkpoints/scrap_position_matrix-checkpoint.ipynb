{
 "cells": [
  {
   "cell_type": "code",
   "execution_count": 15,
   "id": "70de3c64",
   "metadata": {},
   "outputs": [
    {
     "name": "stdout",
     "output_type": "stream",
     "text": [
      "Once deleted, variables cannot be recovered. Proceed (y/[n])? y\n"
     ]
    }
   ],
   "source": [
    "%reset"
   ]
  },
  {
   "cell_type": "code",
   "execution_count": 1,
   "id": "7fa3c2eb",
   "metadata": {},
   "outputs": [],
   "source": [
    "import json\n",
    "import pandas as pd\n",
    "import numpy as np\n",
    "import requests\n",
    "from bs4 import BeautifulSoup"
   ]
  },
  {
   "cell_type": "code",
   "execution_count": 15,
   "id": "74d88c34",
   "metadata": {
    "scrolled": true
   },
   "outputs": [
    {
     "data": {
      "text/html": [
       "<div>\n",
       "<style scoped>\n",
       "    .dataframe tbody tr th:only-of-type {\n",
       "        vertical-align: middle;\n",
       "    }\n",
       "\n",
       "    .dataframe tbody tr th {\n",
       "        vertical-align: top;\n",
       "    }\n",
       "\n",
       "    .dataframe thead th {\n",
       "        text-align: right;\n",
       "    }\n",
       "</style>\n",
       "<table border=\"1\" class=\"dataframe\">\n",
       "  <thead>\n",
       "    <tr style=\"text-align: right;\">\n",
       "      <th></th>\n",
       "      <th>name</th>\n",
       "      <th>address</th>\n",
       "    </tr>\n",
       "  </thead>\n",
       "  <tbody>\n",
       "    <tr>\n",
       "      <th>0</th>\n",
       "      <td>中坡</td>\n",
       "      <td>台北市南港區中坡南路47號1樓</td>\n",
       "    </tr>\n",
       "    <tr>\n",
       "      <th>1</th>\n",
       "      <td>中研</td>\n",
       "      <td>台北市南港區研究院路二段128號1樓(學術活動中心)</td>\n",
       "    </tr>\n",
       "    <tr>\n",
       "      <th>2</th>\n",
       "      <td>中貿</td>\n",
       "      <td>台北市南港區經貿二路186號2樓</td>\n",
       "    </tr>\n",
       "    <tr>\n",
       "      <th>3</th>\n",
       "      <td>玉成</td>\n",
       "      <td>台北市南港區西新里南港路三段3號1樓</td>\n",
       "    </tr>\n",
       "    <tr>\n",
       "      <th>4</th>\n",
       "      <td>玉德</td>\n",
       "      <td>台北市南港區玉成街150號1樓</td>\n",
       "    </tr>\n",
       "  </tbody>\n",
       "</table>\n",
       "</div>"
      ],
      "text/plain": [
       "  name                     address\n",
       "0   中坡             台北市南港區中坡南路47號1樓\n",
       "1   中研  台北市南港區研究院路二段128號1樓(學術活動中心)\n",
       "2   中貿            台北市南港區經貿二路186號2樓\n",
       "3   玉成          台北市南港區西新里南港路三段3號1樓\n",
       "4   玉德             台北市南港區玉成街150號1樓"
      ]
     },
     "execution_count": 15,
     "metadata": {},
     "output_type": "execute_result"
    }
   ],
   "source": [
    "with open(file='seven_test.json', mode='r', encoding='utf-8') as reader:\n",
    "    store_list = json.load(reader)\n",
    "temptab = pd.DataFrame.from_dict(store_list)\n",
    "temptab.head()"
   ]
  },
  {
   "cell_type": "code",
   "execution_count": 16,
   "id": "ed89c2c5",
   "metadata": {},
   "outputs": [
    {
     "name": "stdout",
     "output_type": "stream",
     "text": [
      "number of seven list: 10\n"
     ]
    }
   ],
   "source": [
    "print('number of seven list: ' + str(len(temptab)))"
   ]
  },
  {
   "cell_type": "code",
   "execution_count": 9,
   "id": "d018287e",
   "metadata": {},
   "outputs": [],
   "source": [
    "pos_matrix = {}\n",
    "for i in store_list:\n",
    "    pos_matrix[i['name']] = {}\n",
    "    pos_matrix[i['name']]['longitude'] = 0\n",
    "    pos_matrix[i['name']]['latitude'] = 0"
   ]
  },
  {
   "cell_type": "markdown",
   "id": "d9824e4b",
   "metadata": {},
   "source": [
    "## Convert to number"
   ]
  },
  {
   "cell_type": "code",
   "execution_count": 10,
   "id": "ecca1109",
   "metadata": {},
   "outputs": [],
   "source": [
    "def STR_to_NUM(data):\n",
    "    line = tuple(data.split(','))\n",
    "    num1 = float(line[1])\n",
    "    num2 = float(line[2])\n",
    "    line = [num1, num2]\n",
    "    return line"
   ]
  },
  {
   "cell_type": "markdown",
   "id": "314ea32e",
   "metadata": {},
   "source": [
    "## Get position"
   ]
  },
  {
   "cell_type": "code",
   "execution_count": 11,
   "id": "67d2473e",
   "metadata": {},
   "outputs": [],
   "source": [
    "def get_position(soup):\n",
    "    # find the html contents\n",
    "    doc = soup.prettify()\n",
    "    # find the position where we need\n",
    "    initial_pos = doc.find(\";window.APP_INITIALIZATION_STATE\")\n",
    "    # capture the range text we need\n",
    "    data = doc[initial_pos+36:initial_pos+85]\n",
    "    return STR_to_NUM(data)"
   ]
  },
  {
   "cell_type": "markdown",
   "id": "f3734065",
   "metadata": {},
   "source": [
    "## Main"
   ]
  },
  {
   "cell_type": "code",
   "execution_count": 12,
   "id": "76648ab7",
   "metadata": {},
   "outputs": [
    {
     "name": "stdout",
     "output_type": "stream",
     "text": [
      "process: 0.1\n",
      "中坡: (121.58143411500649, 25.042978383)\n",
      "--------------------------------------------------\n",
      "process: 0.2\n",
      "中研: (121.60985311500639, 25.0426739839)\n",
      "--------------------------------------------------\n",
      "process: 0.3\n",
      "中貿: (121.61276961500681, 25.05883328)\n",
      "--------------------------------------------------\n",
      "process: 0.4\n",
      "玉成: (121.5900314150067, 25.054057783)\n",
      "--------------------------------------------------\n",
      "process: 0.5\n",
      "玉德: (121.58145431500655, 25.04500058)\n",
      "--------------------------------------------------\n",
      "process: 0.6\n",
      "向揚: (121.5921428150067, 25.0557936839)\n",
      "--------------------------------------------------\n",
      "process: 0.7\n",
      "庄研: (121.6147090150063, 25.03831738397)\n",
      "--------------------------------------------------\n",
      "process: 0.8\n",
      "佳樂: (121.60555001500666, 25.05436538)\n",
      "--------------------------------------------------\n",
      "process: 0.9\n",
      "忠陽: (121.59184411500658, 25.05065188)\n",
      "--------------------------------------------------\n",
      "process: 1.0\n",
      "昆陽: (121.59188351500664, 25.05016398)\n",
      "--------------------------------------------------\n",
      "Done!\n"
     ]
    }
   ],
   "source": [
    "# for url template\n",
    "template = 'https://www.google.com/maps/place?q={}'\n",
    "# construct the position matrix\n",
    "for i, a_store in enumerate(store_list):\n",
    "    # visit the web\n",
    "    url = template.format(a_store['address'])\n",
    "    response = requests.get(url)\n",
    "    \n",
    "    # request NOT OK, BREAK!\n",
    "    if response.status_code != 200:\n",
    "        print('I\\'m a robot')\n",
    "        break\n",
    "        \n",
    "    # if request OK\n",
    "    # extract link to tree structure\n",
    "    soup = BeautifulSoup(response.text, 'html.parser')\n",
    "    pos = get_position(soup)\n",
    "    \n",
    "    \n",
    "    pos_matrix[a_store['name']]['longitude'] = pos[0]\n",
    "    pos_matrix[a_store['name']]['latitude'] = pos[1]\n",
    "    # print the process\n",
    "    print('process: '+str((i+1)/len(store_list)))\n",
    "    print('{}: ({}, {})'.format(a_store['name'], pos[0], pos[1]))\n",
    "    print('-'*50)\n",
    "\n",
    "print('Done!')"
   ]
  },
  {
   "cell_type": "code",
   "execution_count": 13,
   "id": "a13efeae",
   "metadata": {},
   "outputs": [
    {
     "data": {
      "text/html": [
       "<div>\n",
       "<style scoped>\n",
       "    .dataframe tbody tr th:only-of-type {\n",
       "        vertical-align: middle;\n",
       "    }\n",
       "\n",
       "    .dataframe tbody tr th {\n",
       "        vertical-align: top;\n",
       "    }\n",
       "\n",
       "    .dataframe thead th {\n",
       "        text-align: right;\n",
       "    }\n",
       "</style>\n",
       "<table border=\"1\" class=\"dataframe\">\n",
       "  <thead>\n",
       "    <tr style=\"text-align: right;\">\n",
       "      <th></th>\n",
       "      <th>中坡</th>\n",
       "      <th>中研</th>\n",
       "      <th>中貿</th>\n",
       "      <th>玉成</th>\n",
       "      <th>玉德</th>\n",
       "      <th>向揚</th>\n",
       "      <th>庄研</th>\n",
       "      <th>佳樂</th>\n",
       "      <th>忠陽</th>\n",
       "      <th>昆陽</th>\n",
       "    </tr>\n",
       "  </thead>\n",
       "  <tbody>\n",
       "    <tr>\n",
       "      <th>longitude</th>\n",
       "      <td>121.581434</td>\n",
       "      <td>121.609853</td>\n",
       "      <td>121.612770</td>\n",
       "      <td>121.590031</td>\n",
       "      <td>121.581454</td>\n",
       "      <td>121.592143</td>\n",
       "      <td>121.614709</td>\n",
       "      <td>121.605550</td>\n",
       "      <td>121.591844</td>\n",
       "      <td>121.591884</td>\n",
       "    </tr>\n",
       "    <tr>\n",
       "      <th>latitude</th>\n",
       "      <td>25.042978</td>\n",
       "      <td>25.042674</td>\n",
       "      <td>25.058833</td>\n",
       "      <td>25.054058</td>\n",
       "      <td>25.045001</td>\n",
       "      <td>25.055794</td>\n",
       "      <td>25.038317</td>\n",
       "      <td>25.054365</td>\n",
       "      <td>25.050652</td>\n",
       "      <td>25.050164</td>\n",
       "    </tr>\n",
       "  </tbody>\n",
       "</table>\n",
       "</div>"
      ],
      "text/plain": [
       "                   中坡          中研          中貿          玉成          玉德  \\\n",
       "longitude  121.581434  121.609853  121.612770  121.590031  121.581454   \n",
       "latitude    25.042978   25.042674   25.058833   25.054058   25.045001   \n",
       "\n",
       "                   向揚          庄研          佳樂          忠陽          昆陽  \n",
       "longitude  121.592143  121.614709  121.605550  121.591844  121.591884  \n",
       "latitude    25.055794   25.038317   25.054365   25.050652   25.050164  "
      ]
     },
     "execution_count": 13,
     "metadata": {},
     "output_type": "execute_result"
    }
   ],
   "source": [
    "pd.DataFrame.from_dict(pos_matrix)"
   ]
  },
  {
   "cell_type": "code",
   "execution_count": 14,
   "id": "fd0d7594",
   "metadata": {},
   "outputs": [],
   "source": [
    "with open(file='position_test.json', mode='w', encoding='utf-8') as writer:\n",
    "    json.dump(obj=pos_matrix, fp=writer, indent=4)"
   ]
  },
  {
   "cell_type": "markdown",
   "id": "96c74620",
   "metadata": {},
   "source": [
    "## Reference\n",
    "https://richard98hess444.medium.com/python%E7%88%AC%E8%9F%B2-google-maps-%E5%9C%B0%E6%A8%99%E8%88%87%E5%9C%B0%E5%9D%80%E8%BD%89%E7%B6%93%E7%B7%AF%E5%BA%A6-b63eea8d8ca7"
   ]
  },
  {
   "cell_type": "code",
   "execution_count": null,
   "id": "be74e397",
   "metadata": {},
   "outputs": [],
   "source": []
  }
 ],
 "metadata": {
  "kernelspec": {
   "display_name": "Python 3",
   "language": "python",
   "name": "python3"
  },
  "language_info": {
   "codemirror_mode": {
    "name": "ipython",
    "version": 3
   },
   "file_extension": ".py",
   "mimetype": "text/x-python",
   "name": "python",
   "nbconvert_exporter": "python",
   "pygments_lexer": "ipython3",
   "version": "3.9.2"
  }
 },
 "nbformat": 4,
 "nbformat_minor": 5
}
